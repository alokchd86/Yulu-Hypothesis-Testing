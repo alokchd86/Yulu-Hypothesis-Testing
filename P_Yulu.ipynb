{
 "cells": [
  {
   "cell_type": "markdown",
   "id": "0fc52fc2",
   "metadata": {},
   "source": [
    "#                  `Business Case: Yulu - Hypothesis Testing`"
   ]
  },
  {
   "cell_type": "markdown",
   "id": "9e6a5064",
   "metadata": {},
   "source": [
    "## Defining Problem Statement and Analyzing basic metrics\n",
    "\n",
    "###\tBusiness Problem\n",
    "<font color='Blue'>\n",
    "    \n",
    "* Yulu has recently suffered considerable dips in its revenues.\n",
    "* They have contracted a consulting company to understand the factors on which the demand for these shared electric cycles depends. \n",
    "* Specifically, they want to understand the factors affecting the demand for these shared electric cycles in the Indian market.\n",
    "</font>"
   ]
  },
  {
   "cell_type": "code",
   "execution_count": 2,
   "id": "9dcb2a1b",
   "metadata": {},
   "outputs": [],
   "source": [
    "import seaborn as sns\n",
    "import matplotlib.pyplot as plt\n",
    "import pandas as pd\n",
    "import numpy as np\n",
    "from scipy.stats import bernoulli, norm, poisson\n",
    "from scipy import stats\n",
    "from scipy.stats import chi2, chisquare, chi2_contingency\n",
    "from scipy.stats import f_oneway, kruskal, levene"
   ]
  },
  {
   "cell_type": "code",
   "execution_count": 3,
   "id": "91b999e0",
   "metadata": {
    "scrolled": false
   },
   "outputs": [
    {
     "data": {
      "text/html": [
       "<div>\n",
       "<style scoped>\n",
       "    .dataframe tbody tr th:only-of-type {\n",
       "        vertical-align: middle;\n",
       "    }\n",
       "\n",
       "    .dataframe tbody tr th {\n",
       "        vertical-align: top;\n",
       "    }\n",
       "\n",
       "    .dataframe thead th {\n",
       "        text-align: right;\n",
       "    }\n",
       "</style>\n",
       "<table border=\"1\" class=\"dataframe\">\n",
       "  <thead>\n",
       "    <tr style=\"text-align: right;\">\n",
       "      <th></th>\n",
       "      <th>datetime</th>\n",
       "      <th>season</th>\n",
       "      <th>holiday</th>\n",
       "      <th>workingday</th>\n",
       "      <th>weather</th>\n",
       "      <th>temp</th>\n",
       "      <th>atemp</th>\n",
       "      <th>humidity</th>\n",
       "      <th>windspeed</th>\n",
       "      <th>casual</th>\n",
       "      <th>registered</th>\n",
       "      <th>count</th>\n",
       "    </tr>\n",
       "  </thead>\n",
       "  <tbody>\n",
       "    <tr>\n",
       "      <th>0</th>\n",
       "      <td>2011-01-01 00:00:00</td>\n",
       "      <td>1</td>\n",
       "      <td>0</td>\n",
       "      <td>0</td>\n",
       "      <td>1</td>\n",
       "      <td>9.84</td>\n",
       "      <td>14.395</td>\n",
       "      <td>81</td>\n",
       "      <td>0.0000</td>\n",
       "      <td>3</td>\n",
       "      <td>13</td>\n",
       "      <td>16</td>\n",
       "    </tr>\n",
       "    <tr>\n",
       "      <th>1</th>\n",
       "      <td>2011-01-01 01:00:00</td>\n",
       "      <td>1</td>\n",
       "      <td>0</td>\n",
       "      <td>0</td>\n",
       "      <td>1</td>\n",
       "      <td>9.02</td>\n",
       "      <td>13.635</td>\n",
       "      <td>80</td>\n",
       "      <td>0.0000</td>\n",
       "      <td>8</td>\n",
       "      <td>32</td>\n",
       "      <td>40</td>\n",
       "    </tr>\n",
       "    <tr>\n",
       "      <th>2</th>\n",
       "      <td>2011-01-01 02:00:00</td>\n",
       "      <td>1</td>\n",
       "      <td>0</td>\n",
       "      <td>0</td>\n",
       "      <td>1</td>\n",
       "      <td>9.02</td>\n",
       "      <td>13.635</td>\n",
       "      <td>80</td>\n",
       "      <td>0.0000</td>\n",
       "      <td>5</td>\n",
       "      <td>27</td>\n",
       "      <td>32</td>\n",
       "    </tr>\n",
       "    <tr>\n",
       "      <th>3</th>\n",
       "      <td>2011-01-01 03:00:00</td>\n",
       "      <td>1</td>\n",
       "      <td>0</td>\n",
       "      <td>0</td>\n",
       "      <td>1</td>\n",
       "      <td>9.84</td>\n",
       "      <td>14.395</td>\n",
       "      <td>75</td>\n",
       "      <td>0.0000</td>\n",
       "      <td>3</td>\n",
       "      <td>10</td>\n",
       "      <td>13</td>\n",
       "    </tr>\n",
       "    <tr>\n",
       "      <th>4</th>\n",
       "      <td>2011-01-01 04:00:00</td>\n",
       "      <td>1</td>\n",
       "      <td>0</td>\n",
       "      <td>0</td>\n",
       "      <td>1</td>\n",
       "      <td>9.84</td>\n",
       "      <td>14.395</td>\n",
       "      <td>75</td>\n",
       "      <td>0.0000</td>\n",
       "      <td>0</td>\n",
       "      <td>1</td>\n",
       "      <td>1</td>\n",
       "    </tr>\n",
       "    <tr>\n",
       "      <th>...</th>\n",
       "      <td>...</td>\n",
       "      <td>...</td>\n",
       "      <td>...</td>\n",
       "      <td>...</td>\n",
       "      <td>...</td>\n",
       "      <td>...</td>\n",
       "      <td>...</td>\n",
       "      <td>...</td>\n",
       "      <td>...</td>\n",
       "      <td>...</td>\n",
       "      <td>...</td>\n",
       "      <td>...</td>\n",
       "    </tr>\n",
       "    <tr>\n",
       "      <th>10881</th>\n",
       "      <td>2012-12-19 19:00:00</td>\n",
       "      <td>4</td>\n",
       "      <td>0</td>\n",
       "      <td>1</td>\n",
       "      <td>1</td>\n",
       "      <td>15.58</td>\n",
       "      <td>19.695</td>\n",
       "      <td>50</td>\n",
       "      <td>26.0027</td>\n",
       "      <td>7</td>\n",
       "      <td>329</td>\n",
       "      <td>336</td>\n",
       "    </tr>\n",
       "    <tr>\n",
       "      <th>10882</th>\n",
       "      <td>2012-12-19 20:00:00</td>\n",
       "      <td>4</td>\n",
       "      <td>0</td>\n",
       "      <td>1</td>\n",
       "      <td>1</td>\n",
       "      <td>14.76</td>\n",
       "      <td>17.425</td>\n",
       "      <td>57</td>\n",
       "      <td>15.0013</td>\n",
       "      <td>10</td>\n",
       "      <td>231</td>\n",
       "      <td>241</td>\n",
       "    </tr>\n",
       "    <tr>\n",
       "      <th>10883</th>\n",
       "      <td>2012-12-19 21:00:00</td>\n",
       "      <td>4</td>\n",
       "      <td>0</td>\n",
       "      <td>1</td>\n",
       "      <td>1</td>\n",
       "      <td>13.94</td>\n",
       "      <td>15.910</td>\n",
       "      <td>61</td>\n",
       "      <td>15.0013</td>\n",
       "      <td>4</td>\n",
       "      <td>164</td>\n",
       "      <td>168</td>\n",
       "    </tr>\n",
       "    <tr>\n",
       "      <th>10884</th>\n",
       "      <td>2012-12-19 22:00:00</td>\n",
       "      <td>4</td>\n",
       "      <td>0</td>\n",
       "      <td>1</td>\n",
       "      <td>1</td>\n",
       "      <td>13.94</td>\n",
       "      <td>17.425</td>\n",
       "      <td>61</td>\n",
       "      <td>6.0032</td>\n",
       "      <td>12</td>\n",
       "      <td>117</td>\n",
       "      <td>129</td>\n",
       "    </tr>\n",
       "    <tr>\n",
       "      <th>10885</th>\n",
       "      <td>2012-12-19 23:00:00</td>\n",
       "      <td>4</td>\n",
       "      <td>0</td>\n",
       "      <td>1</td>\n",
       "      <td>1</td>\n",
       "      <td>13.12</td>\n",
       "      <td>16.665</td>\n",
       "      <td>66</td>\n",
       "      <td>8.9981</td>\n",
       "      <td>4</td>\n",
       "      <td>84</td>\n",
       "      <td>88</td>\n",
       "    </tr>\n",
       "  </tbody>\n",
       "</table>\n",
       "<p>10886 rows × 12 columns</p>\n",
       "</div>"
      ],
      "text/plain": [
       "                  datetime  season  holiday  workingday  weather   temp  \\\n",
       "0      2011-01-01 00:00:00       1        0           0        1   9.84   \n",
       "1      2011-01-01 01:00:00       1        0           0        1   9.02   \n",
       "2      2011-01-01 02:00:00       1        0           0        1   9.02   \n",
       "3      2011-01-01 03:00:00       1        0           0        1   9.84   \n",
       "4      2011-01-01 04:00:00       1        0           0        1   9.84   \n",
       "...                    ...     ...      ...         ...      ...    ...   \n",
       "10881  2012-12-19 19:00:00       4        0           1        1  15.58   \n",
       "10882  2012-12-19 20:00:00       4        0           1        1  14.76   \n",
       "10883  2012-12-19 21:00:00       4        0           1        1  13.94   \n",
       "10884  2012-12-19 22:00:00       4        0           1        1  13.94   \n",
       "10885  2012-12-19 23:00:00       4        0           1        1  13.12   \n",
       "\n",
       "        atemp  humidity  windspeed  casual  registered  count  \n",
       "0      14.395        81     0.0000       3          13     16  \n",
       "1      13.635        80     0.0000       8          32     40  \n",
       "2      13.635        80     0.0000       5          27     32  \n",
       "3      14.395        75     0.0000       3          10     13  \n",
       "4      14.395        75     0.0000       0           1      1  \n",
       "...       ...       ...        ...     ...         ...    ...  \n",
       "10881  19.695        50    26.0027       7         329    336  \n",
       "10882  17.425        57    15.0013      10         231    241  \n",
       "10883  15.910        61    15.0013       4         164    168  \n",
       "10884  17.425        61     6.0032      12         117    129  \n",
       "10885  16.665        66     8.9981       4          84     88  \n",
       "\n",
       "[10886 rows x 12 columns]"
      ]
     },
     "execution_count": 3,
     "metadata": {},
     "output_type": "execute_result"
    }
   ],
   "source": [
    "df = pd.read_csv(\"C:/Scaler_DSML/Project/Yulu/bike_sharing.txt\")\n",
    "df"
   ]
  },
  {
   "cell_type": "markdown",
   "id": "4393ebb2",
   "metadata": {},
   "source": [
    "###\tAnalyzing basic metrics\n",
    "\n",
    "###### o\tShape of data: Total of 10886 rows × 12 columns."
   ]
  },
  {
   "cell_type": "code",
   "execution_count": 4,
   "id": "089530b7",
   "metadata": {},
   "outputs": [
    {
     "data": {
      "text/plain": [
       "(10886, 12)"
      ]
     },
     "execution_count": 4,
     "metadata": {},
     "output_type": "execute_result"
    }
   ],
   "source": [
    "df.shape"
   ]
  },
  {
   "cell_type": "markdown",
   "id": "251cd3ac",
   "metadata": {},
   "source": [
    "###### o\tData types of all the attributes as received in source: "
   ]
  },
  {
   "cell_type": "code",
   "execution_count": 5,
   "id": "abea5d64",
   "metadata": {
    "scrolled": true
   },
   "outputs": [
    {
     "name": "stdout",
     "output_type": "stream",
     "text": [
      "<class 'pandas.core.frame.DataFrame'>\n",
      "RangeIndex: 10886 entries, 0 to 10885\n",
      "Data columns (total 12 columns):\n",
      " #   Column      Non-Null Count  Dtype  \n",
      "---  ------      --------------  -----  \n",
      " 0   datetime    10886 non-null  object \n",
      " 1   season      10886 non-null  int64  \n",
      " 2   holiday     10886 non-null  int64  \n",
      " 3   workingday  10886 non-null  int64  \n",
      " 4   weather     10886 non-null  int64  \n",
      " 5   temp        10886 non-null  float64\n",
      " 6   atemp       10886 non-null  float64\n",
      " 7   humidity    10886 non-null  int64  \n",
      " 8   windspeed   10886 non-null  float64\n",
      " 9   casual      10886 non-null  int64  \n",
      " 10  registered  10886 non-null  int64  \n",
      " 11  count       10886 non-null  int64  \n",
      "dtypes: float64(3), int64(8), object(1)\n",
      "memory usage: 1020.7+ KB\n"
     ]
    }
   ],
   "source": [
    "df.info()"
   ]
  },
  {
   "cell_type": "markdown",
   "id": "b0aa8d35",
   "metadata": {},
   "source": [
    "##### o\tConversion of categorical attributes to 'category':\n",
    "\n",
    "- Converted 4 columns into category data type.\n",
    "\n",
    "- It has helped in reduction of memory usage."
   ]
  },
  {
   "cell_type": "code",
   "execution_count": 5,
   "id": "c0164f69",
   "metadata": {},
   "outputs": [],
   "source": [
    "df = df.apply(lambda s: s.astype('category') \n",
    "              if s.name in ['holiday','season','workingday','weather'] else s)"
   ]
  },
  {
   "cell_type": "code",
   "execution_count": 6,
   "id": "352616e1",
   "metadata": {
    "scrolled": true
   },
   "outputs": [
    {
     "name": "stdout",
     "output_type": "stream",
     "text": [
      "<class 'pandas.core.frame.DataFrame'>\n",
      "RangeIndex: 10886 entries, 0 to 10885\n",
      "Data columns (total 12 columns):\n",
      " #   Column      Non-Null Count  Dtype   \n",
      "---  ------      --------------  -----   \n",
      " 0   datetime    10886 non-null  object  \n",
      " 1   season      10886 non-null  category\n",
      " 2   holiday     10886 non-null  category\n",
      " 3   workingday  10886 non-null  category\n",
      " 4   weather     10886 non-null  category\n",
      " 5   temp        10886 non-null  float64 \n",
      " 6   atemp       10886 non-null  float64 \n",
      " 7   humidity    10886 non-null  int64   \n",
      " 8   windspeed   10886 non-null  float64 \n",
      " 9   casual      10886 non-null  int64   \n",
      " 10  registered  10886 non-null  int64   \n",
      " 11  count       10886 non-null  int64   \n",
      "dtypes: category(4), float64(3), int64(4), object(1)\n",
      "memory usage: 723.7+ KB\n"
     ]
    }
   ],
   "source": [
    "df.info()"
   ]
  },
  {
   "cell_type": "markdown",
   "id": "704b638b",
   "metadata": {},
   "source": [
    "#### o\tStatistical summary Numerical variables:\n",
    "- count has mean 191 but median is 145.\n",
    "\n",
    "- count has significant difference in mean and median values."
   ]
  },
  {
   "cell_type": "code",
   "execution_count": 7,
   "id": "bb1a1552",
   "metadata": {
    "scrolled": true
   },
   "outputs": [
    {
     "data": {
      "text/html": [
       "<div>\n",
       "<style scoped>\n",
       "    .dataframe tbody tr th:only-of-type {\n",
       "        vertical-align: middle;\n",
       "    }\n",
       "\n",
       "    .dataframe tbody tr th {\n",
       "        vertical-align: top;\n",
       "    }\n",
       "\n",
       "    .dataframe thead th {\n",
       "        text-align: right;\n",
       "    }\n",
       "</style>\n",
       "<table border=\"1\" class=\"dataframe\">\n",
       "  <thead>\n",
       "    <tr style=\"text-align: right;\">\n",
       "      <th></th>\n",
       "      <th>temp</th>\n",
       "      <th>atemp</th>\n",
       "      <th>humidity</th>\n",
       "      <th>windspeed</th>\n",
       "      <th>casual</th>\n",
       "      <th>registered</th>\n",
       "      <th>count</th>\n",
       "    </tr>\n",
       "  </thead>\n",
       "  <tbody>\n",
       "    <tr>\n",
       "      <th>count</th>\n",
       "      <td>10886.00000</td>\n",
       "      <td>10886.000000</td>\n",
       "      <td>10886.000000</td>\n",
       "      <td>10886.000000</td>\n",
       "      <td>10886.000000</td>\n",
       "      <td>10886.000000</td>\n",
       "      <td>10886.000000</td>\n",
       "    </tr>\n",
       "    <tr>\n",
       "      <th>mean</th>\n",
       "      <td>20.23086</td>\n",
       "      <td>23.655084</td>\n",
       "      <td>61.886460</td>\n",
       "      <td>12.799395</td>\n",
       "      <td>36.021955</td>\n",
       "      <td>155.552177</td>\n",
       "      <td>191.574132</td>\n",
       "    </tr>\n",
       "    <tr>\n",
       "      <th>std</th>\n",
       "      <td>7.79159</td>\n",
       "      <td>8.474601</td>\n",
       "      <td>19.245033</td>\n",
       "      <td>8.164537</td>\n",
       "      <td>49.960477</td>\n",
       "      <td>151.039033</td>\n",
       "      <td>181.144454</td>\n",
       "    </tr>\n",
       "    <tr>\n",
       "      <th>min</th>\n",
       "      <td>0.82000</td>\n",
       "      <td>0.760000</td>\n",
       "      <td>0.000000</td>\n",
       "      <td>0.000000</td>\n",
       "      <td>0.000000</td>\n",
       "      <td>0.000000</td>\n",
       "      <td>1.000000</td>\n",
       "    </tr>\n",
       "    <tr>\n",
       "      <th>25%</th>\n",
       "      <td>13.94000</td>\n",
       "      <td>16.665000</td>\n",
       "      <td>47.000000</td>\n",
       "      <td>7.001500</td>\n",
       "      <td>4.000000</td>\n",
       "      <td>36.000000</td>\n",
       "      <td>42.000000</td>\n",
       "    </tr>\n",
       "    <tr>\n",
       "      <th>50%</th>\n",
       "      <td>20.50000</td>\n",
       "      <td>24.240000</td>\n",
       "      <td>62.000000</td>\n",
       "      <td>12.998000</td>\n",
       "      <td>17.000000</td>\n",
       "      <td>118.000000</td>\n",
       "      <td>145.000000</td>\n",
       "    </tr>\n",
       "    <tr>\n",
       "      <th>75%</th>\n",
       "      <td>26.24000</td>\n",
       "      <td>31.060000</td>\n",
       "      <td>77.000000</td>\n",
       "      <td>16.997900</td>\n",
       "      <td>49.000000</td>\n",
       "      <td>222.000000</td>\n",
       "      <td>284.000000</td>\n",
       "    </tr>\n",
       "    <tr>\n",
       "      <th>max</th>\n",
       "      <td>41.00000</td>\n",
       "      <td>45.455000</td>\n",
       "      <td>100.000000</td>\n",
       "      <td>56.996900</td>\n",
       "      <td>367.000000</td>\n",
       "      <td>886.000000</td>\n",
       "      <td>977.000000</td>\n",
       "    </tr>\n",
       "  </tbody>\n",
       "</table>\n",
       "</div>"
      ],
      "text/plain": [
       "              temp         atemp      humidity     windspeed        casual  \\\n",
       "count  10886.00000  10886.000000  10886.000000  10886.000000  10886.000000   \n",
       "mean      20.23086     23.655084     61.886460     12.799395     36.021955   \n",
       "std        7.79159      8.474601     19.245033      8.164537     49.960477   \n",
       "min        0.82000      0.760000      0.000000      0.000000      0.000000   \n",
       "25%       13.94000     16.665000     47.000000      7.001500      4.000000   \n",
       "50%       20.50000     24.240000     62.000000     12.998000     17.000000   \n",
       "75%       26.24000     31.060000     77.000000     16.997900     49.000000   \n",
       "max       41.00000     45.455000    100.000000     56.996900    367.000000   \n",
       "\n",
       "         registered         count  \n",
       "count  10886.000000  10886.000000  \n",
       "mean     155.552177    191.574132  \n",
       "std      151.039033    181.144454  \n",
       "min        0.000000      1.000000  \n",
       "25%       36.000000     42.000000  \n",
       "50%      118.000000    145.000000  \n",
       "75%      222.000000    284.000000  \n",
       "max      886.000000    977.000000  "
      ]
     },
     "execution_count": 7,
     "metadata": {},
     "output_type": "execute_result"
    }
   ],
   "source": [
    "df.describe()"
   ]
  },
  {
   "cell_type": "markdown",
   "id": "7edb0c1f",
   "metadata": {},
   "source": [
    "#### o\tStatistical summary categorical variables:\n",
    "\n",
    "- Season: Season (1: spring, 2: summer, 3: fall, 4: winter)\n",
    "- Holiday: Whether day is a holiday or not ( 1- holiday, 0- non holiday )\n",
    "- Workingday: If day is neither weekend nor holiday is 1, otherwise is 0.\n",
    "\n",
    "\n",
    "- Weather:\n",
    "    1. Clear, Few clouds, partly cloudy, partly cloudy    \n",
    "    2. Mist + Cloudy, Mist + Broken clouds, Mist + Few clouds, Mist    \n",
    "    3. Light Snow, Light Rain + Thunderstorm + Scattered clouds, Light Rain + Scattered clouds    \n",
    "    4. Heavy Rain + Ice Pallets + Thunderstorm + Mist, Snow + Fog"
   ]
  },
  {
   "cell_type": "code",
   "execution_count": 8,
   "id": "61975e1d",
   "metadata": {},
   "outputs": [
    {
     "data": {
      "text/html": [
       "<div>\n",
       "<style scoped>\n",
       "    .dataframe tbody tr th:only-of-type {\n",
       "        vertical-align: middle;\n",
       "    }\n",
       "\n",
       "    .dataframe tbody tr th {\n",
       "        vertical-align: top;\n",
       "    }\n",
       "\n",
       "    .dataframe thead th {\n",
       "        text-align: right;\n",
       "    }\n",
       "</style>\n",
       "<table border=\"1\" class=\"dataframe\">\n",
       "  <thead>\n",
       "    <tr style=\"text-align: right;\">\n",
       "      <th></th>\n",
       "      <th>season</th>\n",
       "      <th>holiday</th>\n",
       "      <th>workingday</th>\n",
       "      <th>weather</th>\n",
       "    </tr>\n",
       "  </thead>\n",
       "  <tbody>\n",
       "    <tr>\n",
       "      <th>count</th>\n",
       "      <td>10886</td>\n",
       "      <td>10886</td>\n",
       "      <td>10886</td>\n",
       "      <td>10886</td>\n",
       "    </tr>\n",
       "    <tr>\n",
       "      <th>unique</th>\n",
       "      <td>4</td>\n",
       "      <td>2</td>\n",
       "      <td>2</td>\n",
       "      <td>4</td>\n",
       "    </tr>\n",
       "    <tr>\n",
       "      <th>top</th>\n",
       "      <td>4</td>\n",
       "      <td>0</td>\n",
       "      <td>1</td>\n",
       "      <td>1</td>\n",
       "    </tr>\n",
       "    <tr>\n",
       "      <th>freq</th>\n",
       "      <td>2734</td>\n",
       "      <td>10575</td>\n",
       "      <td>7412</td>\n",
       "      <td>7192</td>\n",
       "    </tr>\n",
       "  </tbody>\n",
       "</table>\n",
       "</div>"
      ],
      "text/plain": [
       "        season  holiday  workingday  weather\n",
       "count    10886    10886       10886    10886\n",
       "unique       4        2           2        4\n",
       "top          4        0           1        1\n",
       "freq      2734    10575        7412     7192"
      ]
     },
     "execution_count": 8,
     "metadata": {},
     "output_type": "execute_result"
    }
   ],
   "source": [
    "df.describe(include=['category'])"
   ]
  },
  {
   "cell_type": "markdown",
   "id": "4daa0d24",
   "metadata": {},
   "source": [
    "### 2)\tNon-Graphical Analysis : \n",
    "##### Univariate Analysis - countplots of all the categorical variables\n",
    "\n",
    "##### 1. Categorical Variable : 'season'\n",
    "    - There are equal number of season data available in the source.\n",
    "    - Each season has 25% data each in source."
   ]
  },
  {
   "cell_type": "code",
   "execution_count": 9,
   "id": "e94d1035",
   "metadata": {
    "scrolled": false
   },
   "outputs": [
    {
     "data": {
      "text/plain": [
       "4    25.114826\n",
       "2    25.105640\n",
       "3    25.105640\n",
       "1    24.673893\n",
       "Name: season, dtype: float64"
      ]
     },
     "execution_count": 9,
     "metadata": {},
     "output_type": "execute_result"
    },
    {
     "data": {
      "image/png": "[encoded data removed]",
      "text/plain": [
       "<Figure size 432x288 with 1 Axes>"
      ]
     },
     "metadata": {
      "needs_background": "light"
     },
     "output_type": "display_data"
    }
   ],
   "source": [
    "#Categorical Variable : 'season'\n",
    "sns.set(rc={'figure.figsize':(6,5)})\n",
    "ax = sns.countplot(data=df,x=\"season\")\n",
    "ax.bar_label(container=ax.containers[0])\n",
    "df['season'].value_counts(normalize=True)*100"
   ]
  },
  {
   "cell_type": "markdown",
   "id": "f9119e6e",
   "metadata": {},
   "source": [
    "##### 2. Categorical Variable : 'holiday'\n",
    "    - There are 2.8 % holidays in source data\n",
    "    - 97 % are Non-Holidays in source data    "
   ]
  },
  {
   "cell_type": "code",
   "execution_count": 10,
   "id": "21f07d6d",
   "metadata": {},
   "outputs": [
    {
     "data": {
      "text/plain": [
       "0    97.14312\n",
       "1     2.85688\n",
       "Name: holiday, dtype: float64"
      ]
     },
     "execution_count": 10,
     "metadata": {},
     "output_type": "execute_result"
    },
    {
     "data": {
      "image/png": "[encoded data removed]",
      "text/plain": [
       "<Figure size 360x360 with 1 Axes>"
      ]
     },
     "metadata": {},
     "output_type": "display_data"
    }
   ],
   "source": [
    "sns.set(rc={'figure.figsize':(5,5)})\n",
    "ax = sns.countplot(data=df,x=\"holiday\")\n",
    "ax.bar_label(container=ax.containers[0])\n",
    "df['holiday'].value_counts(normalize=True)*100"
   ]
  },
  {
   "cell_type": "markdown",
   "id": "7ba46881",
   "metadata": {},
   "source": [
    "##### 3. Categorical Variable : 'workingday'\n",
    "- There are 68 % working day in source data.\n",
    "- There are 31 % non-working day in source data."
   ]
  },
  {
   "cell_type": "code",
   "execution_count": 11,
   "id": "a1e0afb7",
   "metadata": {},
   "outputs": [
    {
     "data": {
      "text/plain": [
       "1    68.087452\n",
       "0    31.912548\n",
       "Name: workingday, dtype: float64"
      ]
     },
     "execution_count": 11,
     "metadata": {},
     "output_type": "execute_result"
    },
    {
     "data": {
      "image/png": "[encoded data removed]",
      "text/plain": [
       "<Figure size 432x360 with 1 Axes>"
      ]
     },
     "metadata": {},
     "output_type": "display_data"
    }
   ],
   "source": [
    "#Categorical Variable : 'workingday'\n",
    "sns.set(rc={'figure.figsize':(6,5)})\n",
    "ax = sns.countplot(data=df,x=\"workingday\")\n",
    "ax.bar_label(container=ax.containers[0])\n",
    "df['workingday'].value_counts(normalize=True)*100"
   ]
  },
  {
   "cell_type": "markdown",
   "id": "2e1b6066",
   "metadata": {},
   "source": [
    "##### 4. Categorical Variable : 'weather'\n",
    "- There are 66 % of 1: ( Clear, Few clouds, partly cloudy, partly cloudy) in source data.\n",
    "- There are 26 % of 2: ( Mist + Cloudy, Mist + Broken clouds, Mist + Few clouds, Mist) in source data.\n",
    "- There are 7  % of 3: (Light Snow, Light Rain + Thunderstorm + Scattered clouds) in source data.\n",
    "- There are 0  % of 4: (Heavy Rain + Ice Pallets + Thunderstorm + Mist, Snow + Fog) in source data.    "
   ]
  },
  {
   "cell_type": "code",
   "execution_count": 12,
   "id": "cd66be7b",
   "metadata": {},
   "outputs": [
    {
     "data": {
      "text/plain": [
       "1    66.066507\n",
       "2    26.033437\n",
       "3     7.890869\n",
       "4     0.009186\n",
       "Name: weather, dtype: float64"
      ]
     },
     "execution_count": 12,
     "metadata": {},
     "output_type": "execute_result"
    },
    {
     "data": {
      "image/png": "[encoded data removed]",
      "text/plain": [
       "<Figure size 432x360 with 1 Axes>"
      ]
     },
     "metadata": {},
     "output_type": "display_data"
    }
   ],
   "source": [
    "sns.set(rc={'figure.figsize':(6,5)})\n",
    "ax = sns.countplot(data=df,x=\"weather\")\n",
    "ax.bar_label(container=ax.containers[0])\n",
    "df['weather'].value_counts(normalize=True)*100"
   ]
  },
  {
   "cell_type": "markdown",
   "id": "0b5edbd4",
   "metadata": {},
   "source": [
    "### `Univariate Analysis - distribution plots of all the continuous variable(s)`\n",
    "#### 1. Continuous Variable : 'temp'\n",
    "- Range of temp is from 0 to 41 Celsius\n",
    "- Median and mean both are 20 Celsius.\n",
    "- 75% of the data is below 26 Celsius."
   ]
  },
  {
   "cell_type": "code",
   "execution_count": 13,
   "id": "cfde9efd",
   "metadata": {},
   "outputs": [
    {
     "data": {
      "text/plain": [
       "<seaborn.axisgrid.FacetGrid at 0x2106dad4940>"
      ]
     },
     "execution_count": 13,
     "metadata": {},
     "output_type": "execute_result"
    },
    {
     "data": {
      "image/png": "[encoded data removed]",
      "text/plain": [
       "<Figure size 360x360 with 1 Axes>"
      ]
     },
     "metadata": {},
     "output_type": "display_data"
    }
   ],
   "source": [
    "#Continuous Variable : 'temp'\n",
    "sns.displot(data=df, x=\"temp\", kind='kde', fill=True)"
   ]
  },
  {
   "cell_type": "markdown",
   "id": "17336fd3",
   "metadata": {},
   "source": [
    "#### 2. Continuous Variable : 'atemp'\n",
    "- Range of temp is from 0 to 45 Celsius\n",
    "- Median is 24 and mean is 23 Celsius.\n",
    "- 75% of the data is below 31 Celsius."
   ]
  },
  {
   "cell_type": "code",
   "execution_count": 14,
   "id": "c6b339bb",
   "metadata": {
    "scrolled": false
   },
   "outputs": [
    {
     "data": {
      "text/plain": [
       "<seaborn.axisgrid.FacetGrid at 0x2106dc4d2b0>"
      ]
     },
     "execution_count": 14,
     "metadata": {},
     "output_type": "execute_result"
    },
    {
     "data": {
      "image/png": "[encoded data removed]",
      "text/plain": [
       "<Figure size 360x360 with 1 Axes>"
      ]
     },
     "metadata": {},
     "output_type": "display_data"
    }
   ],
   "source": [
    "sns.displot(data=df, x=\"atemp\", kind='kde', fill=True)"
   ]
  },
  {
   "cell_type": "markdown",
   "id": "c5c8bb06",
   "metadata": {},
   "source": [
    "#### 3. Continuous Variable : 'humidity'\n",
    "- Range of temp is from 0 to 100 Celsius\n",
    "- Median is 62 and mean is 61 Celsius.\n",
    "- 75% of the data is below 77 Celsius.\n",
    "- `Distribution is normal`"
   ]
  },
  {
   "cell_type": "code",
   "execution_count": 15,
   "id": "f4ae6896",
   "metadata": {
    "scrolled": false
   },
   "outputs": [
    {
     "data": {
      "text/plain": [
       "<seaborn.axisgrid.FacetGrid at 0x2106dbedfa0>"
      ]
     },
     "execution_count": 15,
     "metadata": {},
     "output_type": "execute_result"
    },
    {
     "data": {
      "image/png": "[encoded data removed]",
      "text/plain": [
       "<Figure size 360x360 with 1 Axes>"
      ]
     },
     "metadata": {},
     "output_type": "display_data"
    }
   ],
   "source": [
    "sns.displot(data=df, x=\"humidity\", kind='kde', fill=True)"
   ]
  },
  {
   "cell_type": "markdown",
   "id": "611ffea9",
   "metadata": {},
   "source": [
    "#### 4. Continuous Variable : 'windspeed'\n",
    "- Range of temp is from 0 to 56 \n",
    "- Median and mean 12.\n",
    "- 75% of the data is below 16.\n",
    "- It is a right-skewed distribution."
   ]
  },
  {
   "cell_type": "code",
   "execution_count": 16,
   "id": "4da18b84",
   "metadata": {
    "scrolled": false
   },
   "outputs": [
    {
     "data": {
      "text/plain": [
       "<seaborn.axisgrid.FacetGrid at 0x2106fd0d760>"
      ]
     },
     "execution_count": 16,
     "metadata": {},
     "output_type": "execute_result"
    },
    {
     "data": {
      "image/png": "[encoded data removed]",
      "text/plain": [
       "<Figure size 360x360 with 1 Axes>"
      ]
     },
     "metadata": {},
     "output_type": "display_data"
    }
   ],
   "source": [
    "sns.displot(data=df, x=\"windspeed\", kind='kde', fill=True)"
   ]
  },
  {
   "cell_type": "markdown",
   "id": "4619e8da",
   "metadata": {},
   "source": [
    "#### 5. Continuous Variable : 'casual'\n",
    "- Range of temp is from 0 to 367 users.\n",
    "- Median is 17 and mean is 36 users.\n",
    "- 75% of the data is below 46 users.\n",
    "- It is a right-skewed distribution."
   ]
  },
  {
   "cell_type": "code",
   "execution_count": 17,
   "id": "dbe112b3",
   "metadata": {
    "scrolled": false
   },
   "outputs": [
    {
     "data": {
      "text/plain": [
       "<seaborn.axisgrid.FacetGrid at 0x2106dc62850>"
      ]
     },
     "execution_count": 17,
     "metadata": {},
     "output_type": "execute_result"
    },
    {
     "data": {
      "image/png": "[encoded data removed]",
      "text/plain": [
       "<Figure size 360x360 with 1 Axes>"
      ]
     },
     "metadata": {},
     "output_type": "display_data"
    }
   ],
   "source": [
    "sns.displot(data=df, x=\"casual\", kind='kde', fill=True)"
   ]
  },
  {
   "cell_type": "markdown",
   "id": "7362a610",
   "metadata": {},
   "source": [
    "#### 6. Continuous Variable : 'registered'\n",
    "- Range of temp is from 0 to 886 users.\n",
    "- Median is 188 and mean is 155 users.\n",
    "- 75% of the data is below 222 users.\n",
    "- It is a right-skewed distribution."
   ]
  },
  {
   "cell_type": "code",
   "execution_count": 18,
   "id": "b5e5a24c",
   "metadata": {
    "scrolled": false
   },
   "outputs": [
    {
     "data": {
      "text/plain": [
       "<seaborn.axisgrid.FacetGrid at 0x2106fda9dc0>"
      ]
     },
     "execution_count": 18,
     "metadata": {},
     "output_type": "execute_result"
    },
    {
     "data": {
      "image/png": "[encoded data removed]",
      "text/plain": [
       "<Figure size 360x360 with 1 Axes>"
      ]
     },
     "metadata": {},
     "output_type": "display_data"
    }
   ],
   "source": [
    "sns.displot(data=df, x=\"registered\", kind='kde', fill=True)"
   ]
  },
  {
   "cell_type": "markdown",
   "id": "d351ec6c",
   "metadata": {},
   "source": [
    "#### 7. Continuous Variable : 'count'\n",
    "- Range of temp is from 1 to 977 users.\n",
    "- Median is 145 and mean is 191 users.\n",
    "- 75% of the data is below 284 users.\n",
    "- It is a right-skewed distribution."
   ]
  },
  {
   "cell_type": "code",
   "execution_count": 19,
   "id": "67d274a5",
   "metadata": {
    "scrolled": false
   },
   "outputs": [
    {
     "data": {
      "text/plain": [
       "<seaborn.axisgrid.FacetGrid at 0x21070e37340>"
      ]
     },
     "execution_count": 19,
     "metadata": {},
     "output_type": "execute_result"
    },
    {
     "data": {
      "image/png": "[encoded data removed]",
      "text/plain": [
       "<Figure size 360x360 with 1 Axes>"
      ]
     },
     "metadata": {},
     "output_type": "display_data"
    }
   ],
   "source": [
    "sns.displot(data=df, x=\"count\",kind='kde',  fill=True)"
   ]
  },
  {
   "cell_type": "markdown",
   "id": "d719bf22",
   "metadata": {},
   "source": [
    "### `Bivariate Analysis (Relationships between important variables`\n",
    "#### 1.  workday and count //  season and count // weather and count\n",
    "- working day has near equal impact on cycles rented by no. of users on a given day\n",
    "- Season '3' has highest amount of users followed by season '2' then season '4'.\n",
    "- weather 4 is clear outlier in the data.\n",
    "- weather also has impact on the no. of cycle rented."
   ]
  },
  {
   "cell_type": "code",
   "execution_count": 20,
   "id": "d4de4166",
   "metadata": {
    "scrolled": false
   },
   "outputs": [
    {
     "data": {
      "image/png": "[encoded data removed]",
      "text/plain": [
       "<Figure size 936x432 with 4 Axes>"
      ]
     },
     "metadata": {},
     "output_type": "display_data"
    }
   ],
   "source": [
    "fig,axes=plt.subplots(1,4, figsize=(13, 6))\n",
    "plt.subplots_adjust(wspace=0.4) \n",
    "sns.boxplot(x=df[\"workingday\"], y=df[\"count\"] ,ax=axes[0])\n",
    "sns.boxplot(x=df[\"season\"], y=df[\"count\"],ax=axes[1])\n",
    "sns.boxplot(x=df[\"weather\"], y=df[\"count\"], ax=axes[2])\n",
    "sns.boxplot(x=df[\"holiday\"], y=df[\"count\"], ax=axes[3])\n",
    "plt.show()"
   ]
  },
  {
   "cell_type": "markdown",
   "id": "27410e81",
   "metadata": {},
   "source": [
    "#### 2.  workday and registered //  season and registered // weather and registered // holiday and registered\n",
    "- working day has near equal impact on cycles rented by no. of users on a given day\n",
    "- Season '3' has highest amount of users followed by season '2' then season '4'.\n",
    "- weather 4 is clear outlier in the data.\n",
    "- weather also has impact on the no. of cycle rented."
   ]
  },
  {
   "cell_type": "code",
   "execution_count": 21,
   "id": "a6bbcd3f",
   "metadata": {
    "scrolled": false
   },
   "outputs": [
    {
     "data": {
      "image/png": "[encoded data removed]",
      "text/plain": [
       "<Figure size 936x432 with 4 Axes>"
      ]
     },
     "metadata": {},
     "output_type": "display_data"
    }
   ],
   "source": [
    "fig,axes=plt.subplots(1,4, figsize=(13, 6))\n",
    "plt.subplots_adjust(wspace=0.4) \n",
    "sns.boxplot(x=df[\"workingday\"], y=df[\"registered\"] ,ax=axes[0])\n",
    "sns.boxplot(x=df[\"season\"], y=df[\"registered\"],ax=axes[1])\n",
    "sns.boxplot(x=df[\"weather\"], y=df[\"registered\"], ax=axes[2])\n",
    "sns.boxplot(x=df[\"holiday\"], y=df[\"registered\"], ax=axes[3])\n",
    "plt.show()"
   ]
  },
  {
   "cell_type": "markdown",
   "id": "d12047aa",
   "metadata": {},
   "source": [
    "#### 3.  workday and casual //  season and casual // weather and casual // holiday and casual\n",
    "- working day has near equal impact on cycles rented by no. of users on a given day.\n",
    "- Casual user rent more cycles on non working days/ holidays as compared to working days.\n",
    "- On a clear day more casual user rent cycles. \n",
    "- Season '3' has highest amount of users followed by season '2' then season '4'.\n",
    "- weather 4 is clear outlier in the data.\n",
    "- weather also has impact on the no. of cycle rented."
   ]
  },
  {
   "cell_type": "code",
   "execution_count": 22,
   "id": "8682d553",
   "metadata": {
    "scrolled": false
   },
   "outputs": [
    {
     "data": {
      "image/png": "[encoded data removed]",
      "text/plain": [
       "<Figure size 936x432 with 4 Axes>"
      ]
     },
     "metadata": {},
     "output_type": "display_data"
    }
   ],
   "source": [
    "fig,axes=plt.subplots(1,4, figsize=(13, 6))\n",
    "plt.subplots_adjust(wspace=0.4) \n",
    "sns.boxplot(x=df[\"workingday\"], y=df[\"casual\"] ,ax=axes[0])\n",
    "sns.boxplot(x=df[\"season\"], y=df[\"casual\"],ax=axes[1])\n",
    "sns.boxplot(x=df[\"weather\"], y=df[\"casual\"], ax=axes[2])\n",
    "sns.boxplot(x=df[\"holiday\"], y=df[\"casual\"], ax=axes[3])\n",
    "plt.show()"
   ]
  },
  {
   "cell_type": "markdown",
   "id": "fd0bf97c",
   "metadata": {},
   "source": [
    "## 4. Heat map\n",
    "\n",
    "- Registered user are majority of users who rent cycles with 0.97 correlation.\n",
    "- Casual user are majority of users who rent cycles with 0.69 correlation.\n",
    "- humidity has negative correlation with no. of cycle rented.\n",
    "- Temperature also has slight correlation of 0.39 is with no. of cycles being rented."
   ]
  },
  {
   "cell_type": "code",
   "execution_count": 23,
   "id": "c7132b97",
   "metadata": {
    "scrolled": true
   },
   "outputs": [
    {
     "data": {
      "text/plain": [
       "<AxesSubplot:>"
      ]
     },
     "execution_count": 23,
     "metadata": {},
     "output_type": "execute_result"
    },
    {
     "data": {
      "image/png": "[encoded data removed]",
      "text/plain": [
       "<Figure size 648x360 with 2 Axes>"
      ]
     },
     "metadata": {},
     "output_type": "display_data"
    }
   ],
   "source": [
    "sns.set(rc={'figure.figsize':(9,5)})\n",
    "sns.heatmap(df.corr(),annot=True,cmap='Blues')"
   ]
  },
  {
   "cell_type": "markdown",
   "id": "11ce338c",
   "metadata": {},
   "source": [
    "### Outliers Detection for variable 'count'."
   ]
  },
  {
   "cell_type": "code",
   "execution_count": 24,
   "id": "82acc250",
   "metadata": {
    "scrolled": false
   },
   "outputs": [
    {
     "name": "stdout",
     "output_type": "stream",
     "text": [
      "upper Limit:  647.0\n",
      "lower Limit:  -321.0\n"
     ]
    },
    {
     "data": {
      "text/html": [
       "<div>\n",
       "<style scoped>\n",
       "    .dataframe tbody tr th:only-of-type {\n",
       "        vertical-align: middle;\n",
       "    }\n",
       "\n",
       "    .dataframe tbody tr th {\n",
       "        vertical-align: top;\n",
       "    }\n",
       "\n",
       "    .dataframe thead th {\n",
       "        text-align: right;\n",
       "    }\n",
       "</style>\n",
       "<table border=\"1\" class=\"dataframe\">\n",
       "  <thead>\n",
       "    <tr style=\"text-align: right;\">\n",
       "      <th></th>\n",
       "      <th>datetime</th>\n",
       "      <th>season</th>\n",
       "      <th>holiday</th>\n",
       "      <th>workingday</th>\n",
       "      <th>weather</th>\n",
       "      <th>temp</th>\n",
       "      <th>atemp</th>\n",
       "      <th>humidity</th>\n",
       "      <th>windspeed</th>\n",
       "      <th>casual</th>\n",
       "      <th>registered</th>\n",
       "      <th>count</th>\n",
       "    </tr>\n",
       "  </thead>\n",
       "  <tbody>\n",
       "    <tr>\n",
       "      <th>6611</th>\n",
       "      <td>2012-03-12 18:00:00</td>\n",
       "      <td>1</td>\n",
       "      <td>0</td>\n",
       "      <td>1</td>\n",
       "      <td>2</td>\n",
       "      <td>24.60</td>\n",
       "      <td>31.060</td>\n",
       "      <td>43</td>\n",
       "      <td>12.9980</td>\n",
       "      <td>89</td>\n",
       "      <td>623</td>\n",
       "      <td>712</td>\n",
       "    </tr>\n",
       "    <tr>\n",
       "      <th>6634</th>\n",
       "      <td>2012-03-13 17:00:00</td>\n",
       "      <td>1</td>\n",
       "      <td>0</td>\n",
       "      <td>1</td>\n",
       "      <td>1</td>\n",
       "      <td>28.70</td>\n",
       "      <td>31.820</td>\n",
       "      <td>37</td>\n",
       "      <td>7.0015</td>\n",
       "      <td>62</td>\n",
       "      <td>614</td>\n",
       "      <td>676</td>\n",
       "    </tr>\n",
       "    <tr>\n",
       "      <th>6635</th>\n",
       "      <td>2012-03-13 18:00:00</td>\n",
       "      <td>1</td>\n",
       "      <td>0</td>\n",
       "      <td>1</td>\n",
       "      <td>1</td>\n",
       "      <td>28.70</td>\n",
       "      <td>31.820</td>\n",
       "      <td>34</td>\n",
       "      <td>19.9995</td>\n",
       "      <td>96</td>\n",
       "      <td>638</td>\n",
       "      <td>734</td>\n",
       "    </tr>\n",
       "    <tr>\n",
       "      <th>6649</th>\n",
       "      <td>2012-03-14 08:00:00</td>\n",
       "      <td>1</td>\n",
       "      <td>0</td>\n",
       "      <td>1</td>\n",
       "      <td>1</td>\n",
       "      <td>18.04</td>\n",
       "      <td>21.970</td>\n",
       "      <td>82</td>\n",
       "      <td>0.0000</td>\n",
       "      <td>34</td>\n",
       "      <td>628</td>\n",
       "      <td>662</td>\n",
       "    </tr>\n",
       "    <tr>\n",
       "      <th>6658</th>\n",
       "      <td>2012-03-14 17:00:00</td>\n",
       "      <td>1</td>\n",
       "      <td>0</td>\n",
       "      <td>1</td>\n",
       "      <td>1</td>\n",
       "      <td>28.70</td>\n",
       "      <td>31.820</td>\n",
       "      <td>28</td>\n",
       "      <td>6.0032</td>\n",
       "      <td>140</td>\n",
       "      <td>642</td>\n",
       "      <td>782</td>\n",
       "    </tr>\n",
       "    <tr>\n",
       "      <th>...</th>\n",
       "      <td>...</td>\n",
       "      <td>...</td>\n",
       "      <td>...</td>\n",
       "      <td>...</td>\n",
       "      <td>...</td>\n",
       "      <td>...</td>\n",
       "      <td>...</td>\n",
       "      <td>...</td>\n",
       "      <td>...</td>\n",
       "      <td>...</td>\n",
       "      <td>...</td>\n",
       "      <td>...</td>\n",
       "    </tr>\n",
       "    <tr>\n",
       "      <th>10678</th>\n",
       "      <td>2012-12-11 08:00:00</td>\n",
       "      <td>4</td>\n",
       "      <td>0</td>\n",
       "      <td>1</td>\n",
       "      <td>2</td>\n",
       "      <td>13.94</td>\n",
       "      <td>15.150</td>\n",
       "      <td>61</td>\n",
       "      <td>19.9995</td>\n",
       "      <td>16</td>\n",
       "      <td>708</td>\n",
       "      <td>724</td>\n",
       "    </tr>\n",
       "    <tr>\n",
       "      <th>10702</th>\n",
       "      <td>2012-12-12 08:00:00</td>\n",
       "      <td>4</td>\n",
       "      <td>0</td>\n",
       "      <td>1</td>\n",
       "      <td>2</td>\n",
       "      <td>10.66</td>\n",
       "      <td>12.880</td>\n",
       "      <td>65</td>\n",
       "      <td>11.0014</td>\n",
       "      <td>18</td>\n",
       "      <td>670</td>\n",
       "      <td>688</td>\n",
       "    </tr>\n",
       "    <tr>\n",
       "      <th>10726</th>\n",
       "      <td>2012-12-13 08:00:00</td>\n",
       "      <td>4</td>\n",
       "      <td>0</td>\n",
       "      <td>1</td>\n",
       "      <td>1</td>\n",
       "      <td>9.84</td>\n",
       "      <td>11.365</td>\n",
       "      <td>60</td>\n",
       "      <td>12.9980</td>\n",
       "      <td>24</td>\n",
       "      <td>655</td>\n",
       "      <td>679</td>\n",
       "    </tr>\n",
       "    <tr>\n",
       "      <th>10846</th>\n",
       "      <td>2012-12-18 08:00:00</td>\n",
       "      <td>4</td>\n",
       "      <td>0</td>\n",
       "      <td>1</td>\n",
       "      <td>1</td>\n",
       "      <td>15.58</td>\n",
       "      <td>19.695</td>\n",
       "      <td>94</td>\n",
       "      <td>0.0000</td>\n",
       "      <td>10</td>\n",
       "      <td>652</td>\n",
       "      <td>662</td>\n",
       "    </tr>\n",
       "    <tr>\n",
       "      <th>10870</th>\n",
       "      <td>2012-12-19 08:00:00</td>\n",
       "      <td>4</td>\n",
       "      <td>0</td>\n",
       "      <td>1</td>\n",
       "      <td>1</td>\n",
       "      <td>9.84</td>\n",
       "      <td>12.880</td>\n",
       "      <td>87</td>\n",
       "      <td>7.0015</td>\n",
       "      <td>13</td>\n",
       "      <td>665</td>\n",
       "      <td>678</td>\n",
       "    </tr>\n",
       "  </tbody>\n",
       "</table>\n",
       "<p>300 rows × 12 columns</p>\n",
       "</div>"
      ],
      "text/plain": [
       "                  datetime season holiday workingday weather   temp   atemp  \\\n",
       "6611   2012-03-12 18:00:00      1       0          1       2  24.60  31.060   \n",
       "6634   2012-03-13 17:00:00      1       0          1       1  28.70  31.820   \n",
       "6635   2012-03-13 18:00:00      1       0          1       1  28.70  31.820   \n",
       "6649   2012-03-14 08:00:00      1       0          1       1  18.04  21.970   \n",
       "6658   2012-03-14 17:00:00      1       0          1       1  28.70  31.820   \n",
       "...                    ...    ...     ...        ...     ...    ...     ...   \n",
       "10678  2012-12-11 08:00:00      4       0          1       2  13.94  15.150   \n",
       "10702  2012-12-12 08:00:00      4       0          1       2  10.66  12.880   \n",
       "10726  2012-12-13 08:00:00      4       0          1       1   9.84  11.365   \n",
       "10846  2012-12-18 08:00:00      4       0          1       1  15.58  19.695   \n",
       "10870  2012-12-19 08:00:00      4       0          1       1   9.84  12.880   \n",
       "\n",
       "       humidity  windspeed  casual  registered  count  \n",
       "6611         43    12.9980      89         623    712  \n",
       "6634         37     7.0015      62         614    676  \n",
       "6635         34    19.9995      96         638    734  \n",
       "6649         82     0.0000      34         628    662  \n",
       "6658         28     6.0032     140         642    782  \n",
       "...         ...        ...     ...         ...    ...  \n",
       "10678        61    19.9995      16         708    724  \n",
       "10702        65    11.0014      18         670    688  \n",
       "10726        60    12.9980      24         655    679  \n",
       "10846        94     0.0000      10         652    662  \n",
       "10870        87     7.0015      13         665    678  \n",
       "\n",
       "[300 rows x 12 columns]"
      ]
     },
     "execution_count": 24,
     "metadata": {},
     "output_type": "execute_result"
    }
   ],
   "source": [
    "# Outliers Detection for \"count\" overall data\n",
    "#--------------------------------------\n",
    "IQR = df[\"count\"].quantile(0.75)-df[\"count\"].quantile(0.25)\n",
    "upperLimit= df[\"count\"].quantile(0.75)+ IQR*1.5 \n",
    "lowerLimit= df[\"count\"].quantile(0.25)- IQR*1.5\n",
    "print('upper Limit: ',upperLimit)\n",
    "print('lower Limit: ',lowerLimit)\n",
    "df[(df[\"count\"] <lowerLimit) | (df[\"count\"] > upperLimit)]"
   ]
  },
  {
   "cell_type": "markdown",
   "id": "bc0aa6cf",
   "metadata": {},
   "source": [
    "### Outliers Detection for variable 'temp'\n",
    "- There is No outliers in temp variable"
   ]
  },
  {
   "cell_type": "code",
   "execution_count": 25,
   "id": "bff81ea9",
   "metadata": {
    "scrolled": true
   },
   "outputs": [
    {
     "name": "stdout",
     "output_type": "stream",
     "text": [
      "upper Limit:  44.69\n",
      "lower Limit:  -4.51\n"
     ]
    },
    {
     "data": {
      "text/html": [
       "<div>\n",
       "<style scoped>\n",
       "    .dataframe tbody tr th:only-of-type {\n",
       "        vertical-align: middle;\n",
       "    }\n",
       "\n",
       "    .dataframe tbody tr th {\n",
       "        vertical-align: top;\n",
       "    }\n",
       "\n",
       "    .dataframe thead th {\n",
       "        text-align: right;\n",
       "    }\n",
       "</style>\n",
       "<table border=\"1\" class=\"dataframe\">\n",
       "  <thead>\n",
       "    <tr style=\"text-align: right;\">\n",
       "      <th></th>\n",
       "      <th>datetime</th>\n",
       "      <th>season</th>\n",
       "      <th>holiday</th>\n",
       "      <th>workingday</th>\n",
       "      <th>weather</th>\n",
       "      <th>temp</th>\n",
       "      <th>atemp</th>\n",
       "      <th>humidity</th>\n",
       "      <th>windspeed</th>\n",
       "      <th>casual</th>\n",
       "      <th>registered</th>\n",
       "      <th>count</th>\n",
       "    </tr>\n",
       "  </thead>\n",
       "  <tbody>\n",
       "  </tbody>\n",
       "</table>\n",
       "</div>"
      ],
      "text/plain": [
       "Empty DataFrame\n",
       "Columns: [datetime, season, holiday, workingday, weather, temp, atemp, humidity, windspeed, casual, registered, count]\n",
       "Index: []"
      ]
     },
     "execution_count": 25,
     "metadata": {},
     "output_type": "execute_result"
    }
   ],
   "source": [
    "# Outliers Detection for \"temp\" overall data\n",
    "#--------------------------------------\n",
    "IQR = df[\"temp\"].quantile(0.75)-df[\"temp\"].quantile(0.25)\n",
    "upperLimit= df[\"temp\"].quantile(0.75)+ IQR*1.5 \n",
    "lowerLimit= df[\"temp\"].quantile(0.25)- IQR*1.5\n",
    "print('upper Limit: ',upperLimit)\n",
    "print('lower Limit: ',lowerLimit)\n",
    "df[(df[\"temp\"] <lowerLimit) | (df[\"temp\"] > upperLimit)]"
   ]
  },
  {
   "cell_type": "markdown",
   "id": "59d91099",
   "metadata": {},
   "source": [
    "### Outliers Detection for variable 'atemp'\n",
    "- There is No outliers in atemp variable"
   ]
  },
  {
   "cell_type": "code",
   "execution_count": 26,
   "id": "4891ed11",
   "metadata": {},
   "outputs": [
    {
     "name": "stdout",
     "output_type": "stream",
     "text": [
      "upper Limit:  52.6525\n",
      "lower Limit:  -4.927500000000002\n"
     ]
    },
    {
     "data": {
      "text/html": [
       "<div>\n",
       "<style scoped>\n",
       "    .dataframe tbody tr th:only-of-type {\n",
       "        vertical-align: middle;\n",
       "    }\n",
       "\n",
       "    .dataframe tbody tr th {\n",
       "        vertical-align: top;\n",
       "    }\n",
       "\n",
       "    .dataframe thead th {\n",
       "        text-align: right;\n",
       "    }\n",
       "</style>\n",
       "<table border=\"1\" class=\"dataframe\">\n",
       "  <thead>\n",
       "    <tr style=\"text-align: right;\">\n",
       "      <th></th>\n",
       "      <th>datetime</th>\n",
       "      <th>season</th>\n",
       "      <th>holiday</th>\n",
       "      <th>workingday</th>\n",
       "      <th>weather</th>\n",
       "      <th>temp</th>\n",
       "      <th>atemp</th>\n",
       "      <th>humidity</th>\n",
       "      <th>windspeed</th>\n",
       "      <th>casual</th>\n",
       "      <th>registered</th>\n",
       "      <th>count</th>\n",
       "    </tr>\n",
       "  </thead>\n",
       "  <tbody>\n",
       "  </tbody>\n",
       "</table>\n",
       "</div>"
      ],
      "text/plain": [
       "Empty DataFrame\n",
       "Columns: [datetime, season, holiday, workingday, weather, temp, atemp, humidity, windspeed, casual, registered, count]\n",
       "Index: []"
      ]
     },
     "execution_count": 26,
     "metadata": {},
     "output_type": "execute_result"
    }
   ],
   "source": [
    "# Outliers Detection for \"atemp\" overall data\n",
    "#--------------------------------------\n",
    "IQR = df[\"atemp\"].quantile(0.75)-df[\"atemp\"].quantile(0.25)\n",
    "upperLimit= df[\"atemp\"].quantile(0.75)+ IQR*1.5 \n",
    "lowerLimit= df[\"atemp\"].quantile(0.25)- IQR*1.5\n",
    "print('upper Limit: ',upperLimit)\n",
    "print('lower Limit: ',lowerLimit)\n",
    "df[(df[\"atemp\"] <lowerLimit) | (df[\"atemp\"] > upperLimit)]"
   ]
  },
  {
   "cell_type": "markdown",
   "id": "89bcf562",
   "metadata": {},
   "source": [
    "### >>> Creating new Variable just for Month to check \"Month\" relation with \"count\""
   ]
  },
  {
   "cell_type": "code",
   "execution_count": 27,
   "id": "09670c88",
   "metadata": {
    "scrolled": true
   },
   "outputs": [
    {
     "data": {
      "text/html": [
       "<div>\n",
       "<style scoped>\n",
       "    .dataframe tbody tr th:only-of-type {\n",
       "        vertical-align: middle;\n",
       "    }\n",
       "\n",
       "    .dataframe tbody tr th {\n",
       "        vertical-align: top;\n",
       "    }\n",
       "\n",
       "    .dataframe thead th {\n",
       "        text-align: right;\n",
       "    }\n",
       "</style>\n",
       "<table border=\"1\" class=\"dataframe\">\n",
       "  <thead>\n",
       "    <tr style=\"text-align: right;\">\n",
       "      <th></th>\n",
       "      <th>datetime</th>\n",
       "      <th>season</th>\n",
       "      <th>holiday</th>\n",
       "      <th>workingday</th>\n",
       "      <th>weather</th>\n",
       "      <th>temp</th>\n",
       "      <th>atemp</th>\n",
       "      <th>humidity</th>\n",
       "      <th>windspeed</th>\n",
       "      <th>casual</th>\n",
       "      <th>registered</th>\n",
       "      <th>count</th>\n",
       "      <th>month</th>\n",
       "    </tr>\n",
       "  </thead>\n",
       "  <tbody>\n",
       "    <tr>\n",
       "      <th>0</th>\n",
       "      <td>2011-01-01 00:00:00</td>\n",
       "      <td>1</td>\n",
       "      <td>0</td>\n",
       "      <td>0</td>\n",
       "      <td>1</td>\n",
       "      <td>9.84</td>\n",
       "      <td>14.395</td>\n",
       "      <td>81</td>\n",
       "      <td>0.0</td>\n",
       "      <td>3</td>\n",
       "      <td>13</td>\n",
       "      <td>16</td>\n",
       "      <td>1</td>\n",
       "    </tr>\n",
       "    <tr>\n",
       "      <th>1</th>\n",
       "      <td>2011-01-01 01:00:00</td>\n",
       "      <td>1</td>\n",
       "      <td>0</td>\n",
       "      <td>0</td>\n",
       "      <td>1</td>\n",
       "      <td>9.02</td>\n",
       "      <td>13.635</td>\n",
       "      <td>80</td>\n",
       "      <td>0.0</td>\n",
       "      <td>8</td>\n",
       "      <td>32</td>\n",
       "      <td>40</td>\n",
       "      <td>1</td>\n",
       "    </tr>\n",
       "    <tr>\n",
       "      <th>2</th>\n",
       "      <td>2011-01-01 02:00:00</td>\n",
       "      <td>1</td>\n",
       "      <td>0</td>\n",
       "      <td>0</td>\n",
       "      <td>1</td>\n",
       "      <td>9.02</td>\n",
       "      <td>13.635</td>\n",
       "      <td>80</td>\n",
       "      <td>0.0</td>\n",
       "      <td>5</td>\n",
       "      <td>27</td>\n",
       "      <td>32</td>\n",
       "      <td>1</td>\n",
       "    </tr>\n",
       "    <tr>\n",
       "      <th>3</th>\n",
       "      <td>2011-01-01 03:00:00</td>\n",
       "      <td>1</td>\n",
       "      <td>0</td>\n",
       "      <td>0</td>\n",
       "      <td>1</td>\n",
       "      <td>9.84</td>\n",
       "      <td>14.395</td>\n",
       "      <td>75</td>\n",
       "      <td>0.0</td>\n",
       "      <td>3</td>\n",
       "      <td>10</td>\n",
       "      <td>13</td>\n",
       "      <td>1</td>\n",
       "    </tr>\n",
       "    <tr>\n",
       "      <th>4</th>\n",
       "      <td>2011-01-01 04:00:00</td>\n",
       "      <td>1</td>\n",
       "      <td>0</td>\n",
       "      <td>0</td>\n",
       "      <td>1</td>\n",
       "      <td>9.84</td>\n",
       "      <td>14.395</td>\n",
       "      <td>75</td>\n",
       "      <td>0.0</td>\n",
       "      <td>0</td>\n",
       "      <td>1</td>\n",
       "      <td>1</td>\n",
       "      <td>1</td>\n",
       "    </tr>\n",
       "  </tbody>\n",
       "</table>\n",
       "</div>"
      ],
      "text/plain": [
       "              datetime season holiday workingday weather  temp   atemp  \\\n",
       "0  2011-01-01 00:00:00      1       0          0       1  9.84  14.395   \n",
       "1  2011-01-01 01:00:00      1       0          0       1  9.02  13.635   \n",
       "2  2011-01-01 02:00:00      1       0          0       1  9.02  13.635   \n",
       "3  2011-01-01 03:00:00      1       0          0       1  9.84  14.395   \n",
       "4  2011-01-01 04:00:00      1       0          0       1  9.84  14.395   \n",
       "\n",
       "   humidity  windspeed  casual  registered  count  month  \n",
       "0        81        0.0       3          13     16      1  \n",
       "1        80        0.0       8          32     40      1  \n",
       "2        80        0.0       5          27     32      1  \n",
       "3        75        0.0       3          10     13      1  \n",
       "4        75        0.0       0           1      1      1  "
      ]
     },
     "execution_count": 27,
     "metadata": {},
     "output_type": "execute_result"
    }
   ],
   "source": [
    "df['month'] = pd.to_datetime(df['datetime']).dt.month\n",
    "df.head()"
   ]
  },
  {
   "cell_type": "markdown",
   "id": "4a77a711",
   "metadata": {},
   "source": [
    "#### Findings\n",
    "- From January to June there is gradual increase in the no. of cycles rented\n",
    "- From June to October no. of cycles rented is close to constant with mild variation in no.\n",
    "- From January to june there is gradual increase in the no. of cycles rented\n",
    "- June month maximum users take cycle for rent."
   ]
  },
  {
   "cell_type": "code",
   "execution_count": 28,
   "id": "e65639e9",
   "metadata": {},
   "outputs": [
    {
     "data": {
      "text/plain": [
       "[Text(0, 0, '79884'),\n",
       " Text(0, 0, '99113'),\n",
       " Text(0, 0, '133501'),\n",
       " Text(0, 0, '167402'),\n",
       " Text(0, 0, '200147'),\n",
       " Text(0, 0, '220733'),\n",
       " Text(0, 0, '214617'),\n",
       " Text(0, 0, '213516'),\n",
       " Text(0, 0, '212529'),\n",
       " Text(0, 0, '207434'),\n",
       " Text(0, 0, '176440'),\n",
       " Text(0, 0, '160160')]"
      ]
     },
     "execution_count": 28,
     "metadata": {},
     "output_type": "execute_result"
    },
    {
     "data": {
      "image/png": "[encoded data removed]",
      "text/plain": [
       "<Figure size 720x360 with 1 Axes>"
      ]
     },
     "metadata": {},
     "output_type": "display_data"
    }
   ],
   "source": [
    "m = pd.DataFrame({'No_of_cycle_rented' : df.groupby([ \"month\"])['count'].sum()}).reset_index()\n",
    "sns.set(rc={'figure.figsize':(10,5)})\n",
    "ax = sns.barplot(data=m, x=\"month\", y=\"No_of_cycle_rented\")\n",
    "ax.bar_label(container=ax.containers[0])"
   ]
  },
  {
   "cell_type": "code",
   "execution_count": 29,
   "id": "2828af83",
   "metadata": {},
   "outputs": [],
   "source": [
    "# #Categorical Variable : 'month'\n",
    "# sns.set(rc={'figure.figsize':(6,5)})\n",
    "# ax = sns.countplot(data=df,x=\"month\")\n",
    "# ax.bar_label(container=ax.containers[0])\n",
    "# #ax.set_xticklabels(ax.get_xticklabels(),rotation = 50)\n",
    "# df['month'].value_counts(normalize=True)*100"
   ]
  },
  {
   "cell_type": "markdown",
   "id": "574580d8",
   "metadata": {},
   "source": [
    "### `1. Two Sample T-Test : To check if Working Day has an effect on the number of electric cycles rented`\n",
    "#### Null hypothesis      (Ho): (μ1 = μ2) Difference between means of rented cycle on working day and non-working day is zero .\n",
    "#### Alternate hypothesis (Ha): (μ1 ≠ μ2) Difference between means of rented cycle on working day and non-working day is not zero."
   ]
  },
  {
   "cell_type": "code",
   "execution_count": 30,
   "id": "d6915acd",
   "metadata": {},
   "outputs": [
    {
     "name": "stdout",
     "output_type": "stream",
     "text": [
      "variance on Working Day    :  34040.69710674686\n",
      "variance on Non-Working Day:  30171.346098942427\n",
      "Mean on Working Day        :  193.01187263896384\n",
      "Mean on Non-Working Day    :  188.50662061024755\n",
      "\n",
      "T-Test Statistics:  Ttest_indResult(statistic=-1.2096277376026694, pvalue=0.22644804226361348)\n"
     ]
    }
   ],
   "source": [
    "no_work_day= np.array(df[df['workingday']==0]['count'])\n",
    "work_day = np.array(df[df['workingday']==1]['count'])\n",
    "print('variance on Working Day    : ',np.var(work_day))\n",
    "print('variance on Non-Working Day: ',np.var(no_work_day))\n",
    "print('Mean on Working Day        : ',np.mean(work_day) )\n",
    "print('Mean on Non-Working Day    : ',np.mean(no_work_day))\n",
    "print()\n",
    "print('T-Test Statistics: ',stats.ttest_ind(a=no_work_day, b=work_day, equal_var=True))"
   ]
  },
  {
   "cell_type": "markdown",
   "id": "c55e0c30",
   "metadata": {
    "scrolled": true
   },
   "source": [
    "1. p-value = 0.226\n",
    "2. significance level (α) = 0.05\n",
    "3. confidence level = 95% \n",
    "###### Decision : Since p-value > significance level (α) : Fail to reject Null hypothesis (Ho) \n",
    "###### Inference : Difference between working day and non-working day do not have significant impact on rented cycle on a given day  or in other words means of working and non-working day do not have significant difference to have impact on rented cycle."
   ]
  },
  {
   "cell_type": "markdown",
   "id": "4f874e75",
   "metadata": {
    "scrolled": true
   },
   "source": [
    "#### ------------------------------------------------------------------------------------------------------------------------------------------------------------------------"
   ]
  },
  {
   "cell_type": "markdown",
   "id": "6c2d4742",
   "metadata": {},
   "source": [
    "###  `2. ANNOVA:  To check if No. of cycles rented is similar or different in different weather.`"
   ]
  },
  {
   "cell_type": "markdown",
   "id": "74fe0179",
   "metadata": {},
   "source": [
    "#### Null hypothesis      (Ho):    No. of cycles rented is similar in different weathers. (µ1 = µ2 = µ3)\n",
    "#### Alternate hypothesis (Ha): No. of cycles rented is different for different weathers. (µ1 ≠ µ2 ≠ µ3)"
   ]
  },
  {
   "cell_type": "code",
   "execution_count": 31,
   "id": "7b117f32",
   "metadata": {},
   "outputs": [
    {
     "data": {
      "text/plain": [
       "1    7192\n",
       "2    2834\n",
       "3     859\n",
       "4       1\n",
       "Name: weather, dtype: int64"
      ]
     },
     "execution_count": 31,
     "metadata": {},
     "output_type": "execute_result"
    }
   ],
   "source": [
    "df['weather'].value_counts()"
   ]
  },
  {
   "cell_type": "markdown",
   "id": "67204241",
   "metadata": {},
   "source": [
    "#### Outlier Detection: \n",
    "Since weather = 4 is has only 1 count this seems to be a outlier in our data and can be excluded from ANOVA test."
   ]
  },
  {
   "cell_type": "code",
   "execution_count": 32,
   "id": "ecb4a094",
   "metadata": {},
   "outputs": [
    {
     "name": "stdout",
     "output_type": "stream",
     "text": [
      "Variance for weather = 1 :  35323.8862270764\n",
      "Variance for weather = 2 :  28337.246435435423\n",
      "Variance for weather = 3 :  19182.418761290777\n",
      "Mean for weather = 1 :  205.23679087875416\n",
      "Mean for weather = 2 :  178.95553987297106\n",
      "Mean for weather = 3 :  118.84633294528521\n",
      "\n",
      "Anova Statistics:  F_onewayResult(statistic=98.28356881946706, pvalue=4.976448509904196e-43)\n"
     ]
    }
   ],
   "source": [
    "clear_1 = np.array(df[df['weather']==1]['count'])\n",
    "mist_2 = np.array(df[df['weather']==2]['count'])\n",
    "lightrain_3 = np.array(df[df['weather']==3]['count'])\n",
    "print('Variance for weather = 1 : ',np.var(clear_1))\n",
    "print('Variance for weather = 2 : ',np.var(mist_2))\n",
    "print('Variance for weather = 3 : ',np.var(lightrain_3))\n",
    "print('Mean for weather = 1 : ',np.mean(clear_1))\n",
    "print('Mean for weather = 2 : ',np.mean(mist_2))\n",
    "print('Mean for weather = 3 : ',np.mean(lightrain_3))\n",
    "print()\n",
    "print('Anova Statistics: ',f_oneway(clear_1, mist_2, lightrain_3))"
   ]
  },
  {
   "cell_type": "markdown",
   "id": "b5037719",
   "metadata": {},
   "source": [
    "0. F test statistic = 98.28\n",
    "1. p-value = 4.976448509904196e-43, which is equal to 0.000\n",
    "2. significance level (α) = 0.05\n",
    "3. confidence level = 95% \n",
    "###### Decision : Since p-value < significance level (α) : Reject Null hypothesis (Ho) \n",
    "###### Inference : There is a statistically significant difference between each weather for the no. of cycles rented. Hence weather does has a impact on cycles rented."
   ]
  },
  {
   "cell_type": "code",
   "execution_count": 33,
   "id": "b398847e",
   "metadata": {},
   "outputs": [
    {
     "data": {
      "image/png": "[encoded data removed]",
      "text/plain": [
       "<Figure size 432x432 with 1 Axes>"
      ]
     },
     "metadata": {},
     "output_type": "display_data"
    }
   ],
   "source": [
    "fig = plt.figure(figsize= (6, 6))\n",
    "ax = fig.add_subplot(111)\n",
    "ax.set_title(\"Box Plot of Cycles Rented by Weather\", fontsize= 20)\n",
    "ax.set\n",
    "data = [df[df['weather']==1]['count'],\n",
    "        df[df['weather']==2]['count'],\n",
    "        df[df['weather']==3]['count']]\n",
    "\n",
    "ax.boxplot(data, labels= ['Clear, Few clouds', 'Mist + Cloudy', 'Light Snow, Light Rain'], showmeans= True)\n",
    "plt.xlabel(\"Weather\")\n",
    "plt.ylabel(\"Cycles Rented\")\n",
    "plt.show()"
   ]
  },
  {
   "cell_type": "markdown",
   "id": "62128453",
   "metadata": {},
   "source": [
    "#### ------------------------------------------------------------------------------------------------------------------------------------------------------------------------"
   ]
  },
  {
   "cell_type": "markdown",
   "id": "6f76eb71",
   "metadata": {},
   "source": [
    "###  `3. ANNOVA:  To check if No. of cycles rented is similar or different in different season.`"
   ]
  },
  {
   "cell_type": "markdown",
   "id": "8ba2f5c5",
   "metadata": {},
   "source": [
    "#### Null hypothesis      (Ho): No. of cycles rented is similar in different season. (µ1 = µ2 = µ3 = µ4)\n",
    "#### Alternate hypothesis (Ha): No. of cycles rented is different for different season. (µ1 ≠ µ2 ≠ µ3 ≠ µ4)"
   ]
  },
  {
   "cell_type": "code",
   "execution_count": 34,
   "id": "d7b5000a",
   "metadata": {},
   "outputs": [
    {
     "name": "stdout",
     "output_type": "stream",
     "text": [
      "Variance for spring = 1 :  15687.725805298038\n",
      "Variance for summer = 2 :  36853.522249306465\n",
      "Variance for fall   = 3 :  38854.295089130974\n",
      "Variance for winter = 4 :  31538.180550642726\n",
      "Mean for spring = 1 :  116.34326135517499\n",
      "Mean for summer = 2 :  215.25137211855105\n",
      "Mean for fall   = 3 :  234.417124039517\n",
      "Mean for winter = 4 :  198.98829553767374\n",
      "\n",
      "One way Anova Statistics :  F_onewayResult(statistic=236.94671081032106, pvalue=6.164843386499654e-149)\n",
      "Kruskal-Wallis Statistics:  KruskalResult(statistic=699.6668548181988, pvalue=2.479008372608633e-151)\n"
     ]
    }
   ],
   "source": [
    "spring = np.array(df[df['season']==1]['count'])\n",
    "summer = np.array(df[df['season']==2]['count'])\n",
    "fall = np.array(df[df['season']==3]['count'])\n",
    "winter = np.array(df[df['season']==4]['count'])\n",
    "print('Variance for spring = 1 : ',np.var(spring))\n",
    "print('Variance for summer = 2 : ',np.var(summer))\n",
    "print('Variance for fall   = 3 : ',np.var(fall))\n",
    "print('Variance for winter = 4 : ',np.var(winter))\n",
    "print('Mean for spring = 1 : ',np.mean(spring))\n",
    "print('Mean for summer = 2 : ',np.mean(summer))\n",
    "print('Mean for fall   = 3 : ',np.mean(fall))\n",
    "print('Mean for winter = 4 : ',np.mean(winter))\n",
    "print()\n",
    "print('One way Anova Statistics : ',f_oneway(spring, summer, fall, winter))\n",
    "print('Kruskal-Wallis Statistics: ',kruskal(spring, summer, fall, winter))"
   ]
  },
  {
   "cell_type": "markdown",
   "id": "51bcb290",
   "metadata": {},
   "source": [
    "\n",
    "\n"
   ]
  },
  {
   "cell_type": "code",
   "execution_count": 35,
   "id": "fdcc0576",
   "metadata": {
    "scrolled": false
   },
   "outputs": [
    {
     "data": {
      "image/png": "[encoded data removed]",
      "text/plain": [
       "<Figure size 432x432 with 1 Axes>"
      ]
     },
     "metadata": {},
     "output_type": "display_data"
    }
   ],
   "source": [
    "fig = plt.figure(figsize= (6, 6))\n",
    "ax = fig.add_subplot(111)\n",
    "ax.set_title(\"Box Plot of Cycles Rented by Season\", fontsize= 20)\n",
    "ax.set\n",
    "data = [df[df['season']==1]['count'],\n",
    "        df[df['season']==2]['count'],\n",
    "        df[df['season']==3]['count'],\n",
    "        df[df['season']==4]['count']]\n",
    "\n",
    "ax.boxplot(data, labels= ['spring', 'summer', 'fall','winter'], showmeans= True)\n",
    "plt.xlabel(\"Season\")\n",
    "plt.ylabel(\"Cycles Rented\")\n",
    "plt.show()"
   ]
  },
  {
   "cell_type": "markdown",
   "id": "3cc2ff3f",
   "metadata": {},
   "source": [
    "#### ------------------------------------------------------------------------------------------------------------------------------------------------------------------------"
   ]
  },
  {
   "cell_type": "markdown",
   "id": "17b9ca3c",
   "metadata": {},
   "source": [
    "###  `4. Chi-square:  To check weather is dependent on season or not.`"
   ]
  },
  {
   "cell_type": "markdown",
   "id": "a4d513c2",
   "metadata": {},
   "source": [
    "### CHI-SQUARE TEST OF INDEPENDENCE WITH SCIPY.STATS\n",
    "#### Null hypothesis      (Ho): Weather is not dependent on Season.\n",
    "#### Alternate hypothesis (Ha): Weather is dependent on Season."
   ]
  },
  {
   "cell_type": "code",
   "execution_count": 36,
   "id": "6905e3dc",
   "metadata": {},
   "outputs": [],
   "source": [
    "df1 = df[df['weather']!=4]"
   ]
  },
  {
   "cell_type": "markdown",
   "id": "34b1e260",
   "metadata": {},
   "source": [
    "#### Outlier Detection: \n",
    "Since weather = 4 is has only 1 count this seems to be a outlier in our data and can be excluded from CHI-SQUARE test.\n",
    "\n",
    "#### ASSUMPTION CHECK\n",
    "\n",
    "1. The two samples are independent- The variables were collected independently of each other\n",
    "\n",
    "2. No expected cell count is = 0\n",
    "3. No more than 20% of the cells have and expected cell count < 5, based on below crosstab table\n"
   ]
  },
  {
   "cell_type": "markdown",
   "id": "065f459b",
   "metadata": {},
   "source": [
    "### Levene’s test \n",
    "#####  Null hypothesis Ho: The variance among season is equal.\n",
    "#####  Alternative  hypothesis Ha: The variance among season is not equal."
   ]
  },
  {
   "cell_type": "code",
   "execution_count": 37,
   "id": "2ec220ba",
   "metadata": {},
   "outputs": [
    {
     "data": {
      "text/plain": [
       "(212.51051133288894, 5.725941205064937e-134)"
      ]
     },
     "execution_count": 37,
     "metadata": {},
     "output_type": "execute_result"
    }
   ],
   "source": [
    "# Levene’s test\n",
    "spring = np.array(df[df['season']==1]['count'])\n",
    "summer = np.array(df[df['season']==2]['count'])\n",
    "fall = np.array(df[df['season']==3]['count'])\n",
    "winter = np.array(df[df['season']==4]['count'])\n",
    "\n",
    "w_stats, p_value = levene(spring,summer,fall,winter,  center ='mean')\n",
    "w_stats, p_value"
   ]
  },
  {
   "cell_type": "markdown",
   "id": "caa4c0f6",
   "metadata": {},
   "source": [
    "1. p-value = 5.725941205064937e-134, which is equal to 0.000\n",
    "2. significance level (α) = 0.05\n",
    "3. confidence level = 95% \n",
    "###### Decision : Since p-value < significance level (α) : Reject Null hypothesis (Ho) \n",
    "###### Inference : The variance among season is not equal."
   ]
  },
  {
   "cell_type": "code",
   "execution_count": 38,
   "id": "3de327d4",
   "metadata": {},
   "outputs": [
    {
     "data": {
      "text/html": [
       "<div>\n",
       "<style scoped>\n",
       "    .dataframe tbody tr th:only-of-type {\n",
       "        vertical-align: middle;\n",
       "    }\n",
       "\n",
       "    .dataframe tbody tr th {\n",
       "        vertical-align: top;\n",
       "    }\n",
       "\n",
       "    .dataframe thead th {\n",
       "        text-align: right;\n",
       "    }\n",
       "</style>\n",
       "<table border=\"1\" class=\"dataframe\">\n",
       "  <thead>\n",
       "    <tr style=\"text-align: right;\">\n",
       "      <th>weather</th>\n",
       "      <th>1</th>\n",
       "      <th>2</th>\n",
       "      <th>3</th>\n",
       "    </tr>\n",
       "    <tr>\n",
       "      <th>season</th>\n",
       "      <th></th>\n",
       "      <th></th>\n",
       "      <th></th>\n",
       "    </tr>\n",
       "  </thead>\n",
       "  <tbody>\n",
       "    <tr>\n",
       "      <th>1</th>\n",
       "      <td>1759</td>\n",
       "      <td>715</td>\n",
       "      <td>211</td>\n",
       "    </tr>\n",
       "    <tr>\n",
       "      <th>2</th>\n",
       "      <td>1801</td>\n",
       "      <td>708</td>\n",
       "      <td>224</td>\n",
       "    </tr>\n",
       "    <tr>\n",
       "      <th>3</th>\n",
       "      <td>1930</td>\n",
       "      <td>604</td>\n",
       "      <td>199</td>\n",
       "    </tr>\n",
       "    <tr>\n",
       "      <th>4</th>\n",
       "      <td>1702</td>\n",
       "      <td>807</td>\n",
       "      <td>225</td>\n",
       "    </tr>\n",
       "  </tbody>\n",
       "</table>\n",
       "</div>"
      ],
      "text/plain": [
       "weather     1    2    3\n",
       "season                 \n",
       "1        1759  715  211\n",
       "2        1801  708  224\n",
       "3        1930  604  199\n",
       "4        1702  807  225"
      ]
     },
     "execution_count": 38,
     "metadata": {},
     "output_type": "execute_result"
    }
   ],
   "source": [
    "crosstab = pd.crosstab(df1[\"season\"], df1[\"weather\"])\n",
    "crosstab"
   ]
  },
  {
   "cell_type": "code",
   "execution_count": 39,
   "id": "425954d3",
   "metadata": {},
   "outputs": [
    {
     "data": {
      "text/plain": [
       "(46.10145731073249,\n",
       " 2.8260014509929343e-08,\n",
       " 6,\n",
       " array([[1774.04869086,  699.06201194,  211.8892972 ],\n",
       "        [1805.76352779,  711.55920992,  215.67726229],\n",
       "        [1805.76352779,  711.55920992,  215.67726229],\n",
       "        [1806.42425356,  711.81956821,  215.75617823]]))"
      ]
     },
     "execution_count": 39,
     "metadata": {},
     "output_type": "execute_result"
    }
   ],
   "source": [
    "stats.chi2_contingency(crosstab)"
   ]
  },
  {
   "cell_type": "markdown",
   "id": "94c8c0d6",
   "metadata": {},
   "source": [
    "1. p-value = 2.8260014509929343e-08, which is equal to 0.000\n",
    "2. significance level (α) = 0.05\n",
    "3. confidence level = 95% \n",
    "###### Decision : Since p-value < significance level (α) : Reject Null hypothesis (Ho) \n",
    "###### Inference : Weather is statistically significantly dependent on Season for the cycles to be rented. "
   ]
  },
  {
   "cell_type": "markdown",
   "id": "4ec6be80",
   "metadata": {},
   "source": [
    "#### ------------------------------------------------------------------------------------------------------------------------------------------------------------------------"
   ]
  },
  {
   "cell_type": "markdown",
   "id": "309bddf5",
   "metadata": {},
   "source": [
    "### >>> Creating new temprature bins just to check \"Temp_Bins\" relation with \"count\" <<<\n",
    "\n",
    "##### Findings: \n",
    "- Bin '25-30' has maximum number of user renting cycles.\n",
    "- Bin '20-25' has second maximum number of user renting cycles."
   ]
  },
  {
   "cell_type": "code",
   "execution_count": 40,
   "id": "6752a135",
   "metadata": {},
   "outputs": [
    {
     "data": {
      "text/html": [
       "<div>\n",
       "<style scoped>\n",
       "    .dataframe tbody tr th:only-of-type {\n",
       "        vertical-align: middle;\n",
       "    }\n",
       "\n",
       "    .dataframe tbody tr th {\n",
       "        vertical-align: top;\n",
       "    }\n",
       "\n",
       "    .dataframe thead th {\n",
       "        text-align: right;\n",
       "    }\n",
       "</style>\n",
       "<table border=\"1\" class=\"dataframe\">\n",
       "  <thead>\n",
       "    <tr style=\"text-align: right;\">\n",
       "      <th></th>\n",
       "      <th>datetime</th>\n",
       "      <th>season</th>\n",
       "      <th>holiday</th>\n",
       "      <th>workingday</th>\n",
       "      <th>weather</th>\n",
       "      <th>temp</th>\n",
       "      <th>atemp</th>\n",
       "      <th>humidity</th>\n",
       "      <th>windspeed</th>\n",
       "      <th>casual</th>\n",
       "      <th>registered</th>\n",
       "      <th>count</th>\n",
       "      <th>month</th>\n",
       "      <th>Temp_Bins</th>\n",
       "    </tr>\n",
       "  </thead>\n",
       "  <tbody>\n",
       "    <tr>\n",
       "      <th>0</th>\n",
       "      <td>2011-01-01 00:00:00</td>\n",
       "      <td>1</td>\n",
       "      <td>0</td>\n",
       "      <td>0</td>\n",
       "      <td>1</td>\n",
       "      <td>9.84</td>\n",
       "      <td>14.395</td>\n",
       "      <td>81</td>\n",
       "      <td>0.0</td>\n",
       "      <td>3</td>\n",
       "      <td>13</td>\n",
       "      <td>16</td>\n",
       "      <td>1</td>\n",
       "      <td>(5, 10]</td>\n",
       "    </tr>\n",
       "    <tr>\n",
       "      <th>1</th>\n",
       "      <td>2011-01-01 01:00:00</td>\n",
       "      <td>1</td>\n",
       "      <td>0</td>\n",
       "      <td>0</td>\n",
       "      <td>1</td>\n",
       "      <td>9.02</td>\n",
       "      <td>13.635</td>\n",
       "      <td>80</td>\n",
       "      <td>0.0</td>\n",
       "      <td>8</td>\n",
       "      <td>32</td>\n",
       "      <td>40</td>\n",
       "      <td>1</td>\n",
       "      <td>(5, 10]</td>\n",
       "    </tr>\n",
       "    <tr>\n",
       "      <th>2</th>\n",
       "      <td>2011-01-01 02:00:00</td>\n",
       "      <td>1</td>\n",
       "      <td>0</td>\n",
       "      <td>0</td>\n",
       "      <td>1</td>\n",
       "      <td>9.02</td>\n",
       "      <td>13.635</td>\n",
       "      <td>80</td>\n",
       "      <td>0.0</td>\n",
       "      <td>5</td>\n",
       "      <td>27</td>\n",
       "      <td>32</td>\n",
       "      <td>1</td>\n",
       "      <td>(5, 10]</td>\n",
       "    </tr>\n",
       "    <tr>\n",
       "      <th>3</th>\n",
       "      <td>2011-01-01 03:00:00</td>\n",
       "      <td>1</td>\n",
       "      <td>0</td>\n",
       "      <td>0</td>\n",
       "      <td>1</td>\n",
       "      <td>9.84</td>\n",
       "      <td>14.395</td>\n",
       "      <td>75</td>\n",
       "      <td>0.0</td>\n",
       "      <td>3</td>\n",
       "      <td>10</td>\n",
       "      <td>13</td>\n",
       "      <td>1</td>\n",
       "      <td>(5, 10]</td>\n",
       "    </tr>\n",
       "    <tr>\n",
       "      <th>4</th>\n",
       "      <td>2011-01-01 04:00:00</td>\n",
       "      <td>1</td>\n",
       "      <td>0</td>\n",
       "      <td>0</td>\n",
       "      <td>1</td>\n",
       "      <td>9.84</td>\n",
       "      <td>14.395</td>\n",
       "      <td>75</td>\n",
       "      <td>0.0</td>\n",
       "      <td>0</td>\n",
       "      <td>1</td>\n",
       "      <td>1</td>\n",
       "      <td>1</td>\n",
       "      <td>(5, 10]</td>\n",
       "    </tr>\n",
       "  </tbody>\n",
       "</table>\n",
       "</div>"
      ],
      "text/plain": [
       "              datetime season holiday workingday weather  temp   atemp  \\\n",
       "0  2011-01-01 00:00:00      1       0          0       1  9.84  14.395   \n",
       "1  2011-01-01 01:00:00      1       0          0       1  9.02  13.635   \n",
       "2  2011-01-01 02:00:00      1       0          0       1  9.02  13.635   \n",
       "3  2011-01-01 03:00:00      1       0          0       1  9.84  14.395   \n",
       "4  2011-01-01 04:00:00      1       0          0       1  9.84  14.395   \n",
       "\n",
       "   humidity  windspeed  casual  registered  count  month Temp_Bins  \n",
       "0        81        0.0       3          13     16      1   (5, 10]  \n",
       "1        80        0.0       8          32     40      1   (5, 10]  \n",
       "2        80        0.0       5          27     32      1   (5, 10]  \n",
       "3        75        0.0       3          10     13      1   (5, 10]  \n",
       "4        75        0.0       0           1      1      1   (5, 10]  "
      ]
     },
     "execution_count": 40,
     "metadata": {},
     "output_type": "execute_result"
    }
   ],
   "source": [
    "bins = [0,5,10,15,20,25,30,35,42 ]\n",
    "df['Temp_Bins'] = pd.cut(df['temp'], bins)\n",
    "df.head()"
   ]
  },
  {
   "cell_type": "code",
   "execution_count": 41,
   "id": "527f6bd0",
   "metadata": {},
   "outputs": [
    {
     "data": {
      "text/plain": [
       "[Text(0, 0, '6871'),\n",
       " Text(0, 0, '85270'),\n",
       " Text(0, 0, '281255'),\n",
       " Text(0, 0, '327978'),\n",
       " Text(0, 0, '436728'),\n",
       " Text(0, 0, '531537'),\n",
       " Text(0, 0, '351600'),\n",
       " Text(0, 0, '64237')]"
      ]
     },
     "execution_count": 41,
     "metadata": {},
     "output_type": "execute_result"
    },
    {
     "data": {
      "image/png": "[encoded data removed]",
      "text/plain": [
       "<Figure size 720x360 with 1 Axes>"
      ]
     },
     "metadata": {},
     "output_type": "display_data"
    }
   ],
   "source": [
    "t = pd.DataFrame({'No_of_cycle_rented' : df.groupby([ \"Temp_Bins\"])['count'].sum()}).reset_index()\n",
    "sns.set(rc={'figure.figsize':(10,5)})\n",
    "ax = sns.barplot(data=t, x=\"Temp_Bins\", y=\"No_of_cycle_rented\")\n",
    "ax.bar_label(container=ax.containers[0])"
   ]
  },
  {
   "cell_type": "markdown",
   "id": "fc94bd7f",
   "metadata": {},
   "source": [
    "#### ------------------------------------------------------------------------------------------------------------------------------------------------------------------------"
   ]
  },
  {
   "cell_type": "code",
   "execution_count": 42,
   "id": "bbdc7822",
   "metadata": {},
   "outputs": [
    {
     "data": {
      "text/html": [
       "<div>\n",
       "<style scoped>\n",
       "    .dataframe tbody tr th:only-of-type {\n",
       "        vertical-align: middle;\n",
       "    }\n",
       "\n",
       "    .dataframe tbody tr th {\n",
       "        vertical-align: top;\n",
       "    }\n",
       "\n",
       "    .dataframe thead th {\n",
       "        text-align: right;\n",
       "    }\n",
       "</style>\n",
       "<table border=\"1\" class=\"dataframe\">\n",
       "  <thead>\n",
       "    <tr style=\"text-align: right;\">\n",
       "      <th>weather</th>\n",
       "      <th>1</th>\n",
       "      <th>2</th>\n",
       "      <th>3</th>\n",
       "      <th>All</th>\n",
       "    </tr>\n",
       "    <tr>\n",
       "      <th>season</th>\n",
       "      <th></th>\n",
       "      <th></th>\n",
       "      <th></th>\n",
       "      <th></th>\n",
       "    </tr>\n",
       "  </thead>\n",
       "  <tbody>\n",
       "    <tr>\n",
       "      <th>1</th>\n",
       "      <td>16.16</td>\n",
       "      <td>6.57</td>\n",
       "      <td>1.94</td>\n",
       "      <td>24.67</td>\n",
       "    </tr>\n",
       "    <tr>\n",
       "      <th>2</th>\n",
       "      <td>16.55</td>\n",
       "      <td>6.50</td>\n",
       "      <td>2.06</td>\n",
       "      <td>25.11</td>\n",
       "    </tr>\n",
       "    <tr>\n",
       "      <th>3</th>\n",
       "      <td>17.73</td>\n",
       "      <td>5.55</td>\n",
       "      <td>1.83</td>\n",
       "      <td>25.11</td>\n",
       "    </tr>\n",
       "    <tr>\n",
       "      <th>4</th>\n",
       "      <td>15.64</td>\n",
       "      <td>7.41</td>\n",
       "      <td>2.07</td>\n",
       "      <td>25.12</td>\n",
       "    </tr>\n",
       "    <tr>\n",
       "      <th>All</th>\n",
       "      <td>66.07</td>\n",
       "      <td>26.04</td>\n",
       "      <td>7.89</td>\n",
       "      <td>100.00</td>\n",
       "    </tr>\n",
       "  </tbody>\n",
       "</table>\n",
       "</div>"
      ],
      "text/plain": [
       "weather      1      2     3     All\n",
       "season                             \n",
       "1        16.16   6.57  1.94   24.67\n",
       "2        16.55   6.50  2.06   25.11\n",
       "3        17.73   5.55  1.83   25.11\n",
       "4        15.64   7.41  2.07   25.12\n",
       "All      66.07  26.04  7.89  100.00"
      ]
     },
     "execution_count": 42,
     "metadata": {},
     "output_type": "execute_result"
    }
   ],
   "source": [
    "pd.crosstab(index =df1[\"season\"], columns = df1[\"weather\"] ,\n",
    "            margins = True,normalize='all').round(4)*100"
   ]
  },
  {
   "cell_type": "markdown",
   "id": "d48c8c90",
   "metadata": {},
   "source": [
    "## >>> Business Insights <<<\n",
    "- Fall Season is generating maximum revenue with highest mean 234 users renting cycles.\n",
    "- Fall season with weather type ‘1’ has highest 17 % user renting cycles.\n",
    "- In weather type ‘1’ max user rent cycles.\n",
    "- Working day has near equal impact on cycles rented by no. of users on a given day.\n",
    "- Casual user rent more cycles on non-working days/ holidays as compared to working days.\n",
    "- On a clear day more casual user rent cycle.\n",
    "- Weather 4 is clear outlier in the data.\n",
    "- Weather also has impact on the no. of cycle rented.\n",
    "- Working day has near equal impact on cycles rented by no. of users on a given day\n",
    "- Season '3' has highest amount of users followed by season '2' then season '4'."
   ]
  },
  {
   "cell_type": "markdown",
   "id": "38f10c34",
   "metadata": {},
   "source": [
    "## >>>\tRecommendations <<<\n",
    "\n",
    "- In bad weather extremely less user rent cycles, suggest to have better parking facility to avoid damage\n",
    "\n",
    "  to in case of bad weather, this will save repair cost.\n",
    "\n",
    "\n",
    "- Give initial discounts to casual user to encourage them to make as registered users.\n",
    "- Have more cycles available in clear day, weather type '1' which has maximum user renting cycles.\n",
    "- Discounts for users renting in groups.\n",
    "- Have special holiday prices as lot of casual users renting cycles.\n",
    "- Based on weather forecast keep maximum cycles available for renting at weather type '1' as 66% of \n",
    "\n",
    "  users tend to rent cycle on that given day.\n",
    "  \n",
    "  \n",
    "- In fall season on weather type '1' is the best time to launch new offers and schemes to attract new users.\n",
    "- Spring season has least number of users with high cases of outliers.\n",
    "\n",
    "  "
   ]
  }
 ],
 "metadata": {
  "kernelspec": {
   "display_name": "Python 3 (ipykernel)",
   "language": "python",
   "name": "python3"
  },
  "language_info": {
   "codemirror_mode": {
    "name": "ipython",
    "version": 3
   },
   "file_extension": ".py",
   "mimetype": "text/x-python",
   "name": "python",
   "nbconvert_exporter": "python",
   "pygments_lexer": "ipython3",
   "version": "3.9.7"
  }
 },
 "nbformat": 4,
 "nbformat_minor": 5
}
